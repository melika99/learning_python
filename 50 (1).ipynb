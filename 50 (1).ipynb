{
 "cells": [
  {
   "cell_type": "code",
   "execution_count": 39,
   "id": "2d660c76",
   "metadata": {},
   "outputs": [
    {
     "name": "stdout",
     "output_type": "stream",
     "text": [
      "[1, 2]\n",
      "[3, 4]\n",
      "[5, 6]\n",
      "[7, 8]\n",
      "[9, 10]\n",
      "[11, 12]\n",
      "[13, 14]\n",
      "[15, 16]\n",
      "[17, 18]\n",
      "[19, 20]\n",
      "[21, 22]\n",
      "[23, 24]\n",
      "[25, 26]\n",
      "[27, 28]\n",
      "[29, 30]\n",
      "[31, 32]\n",
      "[33, 34]\n",
      "[35, 36]\n",
      "[37, 38]\n",
      "[39, 40]\n",
      "[41, 42]\n",
      "[43, 44]\n",
      "[45, 46]\n",
      "[47, 48]\n",
      "[49, 50]\n"
     ]
    }
   ],
   "source": [
    "l=[]\n",
    "i=0\n",
    "while i < 50:\n",
    "    i+=1\n",
    "    l.insert(i-1,i)\n",
    "b=0\n",
    "while b < 50:\n",
    "    print(l[b:b+2])\n",
    "    b+=2"
   ]
  },
  {
   "cell_type": "code",
   "execution_count": null,
   "id": "ac42cfdf",
   "metadata": {},
   "outputs": [],
   "source": []
  }
 ],
 "metadata": {
  "kernelspec": {
   "display_name": "Python 3 (ipykernel)",
   "language": "python",
   "name": "python3"
  },
  "language_info": {
   "codemirror_mode": {
    "name": "ipython",
    "version": 3
   },
   "file_extension": ".py",
   "mimetype": "text/x-python",
   "name": "python",
   "nbconvert_exporter": "python",
   "pygments_lexer": "ipython3",
   "version": "3.9.7"
  }
 },
 "nbformat": 4,
 "nbformat_minor": 5
}
